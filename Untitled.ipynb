{
 "cells": [
  {
   "cell_type": "code",
   "execution_count": 1,
   "metadata": {},
   "outputs": [],
   "source": [
    "import numpy as np\n",
    "import math"
   ]
  },
  {
   "cell_type": "code",
   "execution_count": 3,
   "metadata": {},
   "outputs": [
    {
     "data": {
      "text/plain": [
       "array([1.63, 1.95, 1.14, 1.8 , 0.19, 0.32, 1.37, 1.51, 0.03, 1.64, 1.75,\n",
       "       0.23, 0.36, 0.41, 1.49, 1.13, 1.01, 1.4 , 1.45, 1.22])"
      ]
     },
     "execution_count": 3,
     "metadata": {},
     "output_type": "execute_result"
    }
   ],
   "source": [
    "X = [1.63,1.95,1.14,1.8,0.19,0.32,1.37,1.51,0.03,1.64,1.75,0.23,0.36,0.41,1.49,1.13,1.81,1.4,1.45,1.22]\n",
    "np.array(X)"
   ]
  },
  {
   "cell_type": "code",
   "execution_count": 19,
   "metadata": {},
   "outputs": [
    {
     "name": "stdout",
     "output_type": "stream",
     "text": [
      "1.1536992729910165\n"
     ]
    }
   ],
   "source": [
    "F = []\n",
    "f = lambda x: (x**2)/4\n",
    "for i in range(len(X)):\n",
    "    c=0\n",
    "    for j in range(len(X)):\n",
    "        if (X[j]<=X[i]):\n",
    "            c+=1\n",
    "    F.append(c/20 - f(X[i]))\n",
    "np.array(F)\n",
    "Dn = np.max(F)\n",
    "print(Dn*(20**(1/2)))\n"
   ]
  },
  {
   "cell_type": "code",
   "execution_count": 16,
   "metadata": {},
   "outputs": [
    {
     "name": "stdout",
     "output_type": "stream",
     "text": [
      "[0.664225, 0.9506249999999999, 0.32489999999999997, 0.81, 0.009025, 0.0256, 0.46922500000000006, 0.570025, 0.000225, 0.6723999999999999, 0.765625, 0.013225, 0.0324, 0.04202499999999999, 0.555025, 0.3192249999999999, 0.255025, 0.48999999999999994, 0.525625, 0.3721]\n"
     ]
    },
    {
     "data": {
      "text/plain": [
       "array([0.8 , 1.  , 0.1 , 0.45, 0.95, 0.2 , 0.55, 0.75, 0.05, 0.85, 0.9 ,\n",
       "       0.15, 0.25, 0.3 , 0.4 , 0.65, 0.35, 0.7 , 0.6 , 0.5 ])"
      ]
     },
     "execution_count": 16,
     "metadata": {},
     "output_type": "execute_result"
    }
   ],
   "source": [
    "#f = lambda x: (x**2)/4\n",
    "#F_0 = [f(X[i]) for i in range(20)]\n",
    "#print(F_0)\n",
    "#np.array(F_0)\n",
    "F1 = list(set(F) - set(F_0))\n",
    "np.array(F1)\n",
    "#Dn = np.max(F1)"
   ]
  },
  {
   "cell_type": "code",
   "execution_count": null,
   "metadata": {},
   "outputs": [],
   "source": []
  }
 ],
 "metadata": {
  "kernelspec": {
   "display_name": "Python 3",
   "language": "python",
   "name": "python3"
  },
  "language_info": {
   "codemirror_mode": {
    "name": "ipython",
    "version": 3
   },
   "file_extension": ".py",
   "mimetype": "text/x-python",
   "name": "python",
   "nbconvert_exporter": "python",
   "pygments_lexer": "ipython3",
   "version": "3.6.6"
  }
 },
 "nbformat": 4,
 "nbformat_minor": 2
}
